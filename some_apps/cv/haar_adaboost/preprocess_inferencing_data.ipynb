{
 "cells": [
  {
   "cell_type": "code",
   "execution_count": 9,
   "metadata": {},
   "outputs": [
    {
     "name": "stderr",
     "output_type": "stream",
     "text": [
      "  0%|          | 0/16 [00:00<?, ?it/s]"
     ]
    },
    {
     "name": "stderr",
     "output_type": "stream",
     "text": [
      "100%|██████████| 16/16 [00:00<00:00, 117.17it/s]\n"
     ]
    }
   ],
   "source": [
    "import cv2\n",
    "import os\n",
    "import numpy as np\n",
    "from tqdm import tqdm\n",
    "\n",
    "def read_coordinates(coordinate_file):\n",
    "    \"\"\"\n",
    "    读取坐标文件，支持一个图片包含多个人脸的情况。\n",
    "    \"\"\"\n",
    "    coordinates = {}\n",
    "    with open(coordinate_file, 'r') as file:\n",
    "        for line in file:\n",
    "            parts = line.strip().split()\n",
    "            if len(parts) >= 9:\n",
    "                filename = parts[0]\n",
    "                if filename not in coordinates:\n",
    "                    coordinates[filename] = []\n",
    "                coords = [round(float(coord)) for coord in parts[1:]]\n",
    "                coordinates[filename].append(coords)\n",
    "    return coordinates\n",
    "\n",
    "def face_calculate(h0, w0, coordinates):\n",
    "    \"\"\"\n",
    "    根据人脸关键点计算边界框。\n",
    "    \"\"\"\n",
    "    leye_x, leye_y, reye_x, reye_y, nose_x, nose_y, mouth_x, mouth_y = coordinates\n",
    "    center_x, center_y = nose_x, nose_y\n",
    "    face_h = 2 * (mouth_y - (leye_y + reye_y) / 2)\n",
    "    face_w = 2 * (reye_x - leye_x)\n",
    "    upper = max(0, round(center_y - (face_h / 2) * 1.5))\n",
    "    lower = min(h0, round(center_y + face_h / 2))\n",
    "    left = max(0, round(center_x - face_w / 2))\n",
    "    right = min(w0, round(center_x + face_w / 2))\n",
    "    return upper, lower, left, right\n",
    "\n",
    "def calculate_bounding_box(image, coordinates):\n",
    "    \"\"\"\n",
    "    计算一个人脸的边界框。\n",
    "    \"\"\"\n",
    "    y1, y2, x1, x2 = face_calculate(h0=image.shape[0], w0=image.shape[1], coordinates=coordinates)\n",
    "    return [x1, y1, x2, y2]\n",
    "\n",
    "def process_images(image_folder, coordinate_file, data_path, imagesave_path):\n",
    "    \"\"\"\n",
    "    处理图像，保存每张图片的所有人脸边界框信息。\n",
    "    \"\"\"\n",
    "    coordinates = read_coordinates(coordinate_file)\n",
    "    images_faces_info = []\n",
    "    count = 0\n",
    "    for filename, faces in tqdm(coordinates.items()):\n",
    "        image_path = os.path.join(image_folder, filename)\n",
    "        if not os.path.exists(image_path):\n",
    "            continue\n",
    "        image = cv2.imread(image_path)\n",
    "        cv2.imwrite(os.path.join(imagesave_path, f'{count}.jpg'),image)\n",
    "        faces_info = [count]  \n",
    "        for face_coords in faces:\n",
    "            bounding_box = calculate_bounding_box(image, face_coords)\n",
    "            faces_info.append(bounding_box)\n",
    "        images_faces_info.append(faces_info)\n",
    "        count+=1\n",
    "    \n",
    "    np.save(os.path.join(data_path, 'g_t_bounding_boxes.npy'), np.array(images_faces_info, dtype=object))\n",
    "\n",
    "def main():\n",
    "    image_folder = '../caltech/Caltech_WebFaces'\n",
    "    coordinate_file = '../caltech/inferencing_gt.txt'\n",
    "    data_path = '../data'\n",
    "    is_path = '../data/infer_pics'\n",
    "    if not os.path.exists(is_path):\n",
    "        os.makedirs(is_path)\n",
    "    process_images(image_folder, coordinate_file, data_path, is_path)\n",
    "\n",
    "if __name__ == \"__main__\":\n",
    "    main()\n"
   ]
  },
  {
   "cell_type": "code",
   "execution_count": 10,
   "metadata": {},
   "outputs": [],
   "source": [
    "bounding_box = np.load('../data/g_t_bounding_boxes.npy',allow_pickle=True)"
   ]
  },
  {
   "cell_type": "code",
   "execution_count": 11,
   "metadata": {},
   "outputs": [
    {
     "data": {
      "text/plain": [
       "[[113, 165, 141, 195], [176, 165, 200, 196], [228, 162, 246, 184]]"
      ]
     },
     "execution_count": 11,
     "metadata": {},
     "output_type": "execute_result"
    }
   ],
   "source": [
    "bounding_box[15][1:]"
   ]
  },
  {
   "cell_type": "code",
   "execution_count": null,
   "metadata": {},
   "outputs": [],
   "source": []
  }
 ],
 "metadata": {
  "kernelspec": {
   "display_name": "zst",
   "language": "python",
   "name": "python3"
  },
  "language_info": {
   "codemirror_mode": {
    "name": "ipython",
    "version": 3
   },
   "file_extension": ".py",
   "mimetype": "text/x-python",
   "name": "python",
   "nbconvert_exporter": "python",
   "pygments_lexer": "ipython3",
   "version": "3.10.12"
  }
 },
 "nbformat": 4,
 "nbformat_minor": 2
}
